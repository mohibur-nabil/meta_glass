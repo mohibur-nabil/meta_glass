{
 "cells": [
  {
   "cell_type": "code",
   "execution_count": 1,
   "metadata": {},
   "outputs": [
    {
     "name": "stdout",
     "output_type": "stream",
     "text": [
      "{'cookies': [{'domain': 'pimeyes.com', 'expiry': 1734608248, 'httpOnly': True, 'name': 'pimeyes_session', 'path': '/', 'sameSite': 'None', 'secure': True, 'value': 'eyJpdiI6Ijk4bytkaHRTUVBnOEhoVkhOSFJDcEE9PSIsInZhbHVlIjoidUtzQ2gxQnFLZHV6bTZoazdVUWlsaGxrSzVwY0VJcXFRYUN4VkV4TXNhUTJGM2xWOHBBVEpZbTNFck5wRUNFRG94ZW80NmdDZURoVDM0YzROUGdnLzEzYjVwdVhWMG44WVhyd24ySmVXYitvclVTZ1IvdG5tZFlVakRWQlYwVGQiLCJtYWMiOiJkMGE2MzkzMjRhN2MxOGQ5NzVjM2FkM2E4NzNjZmI3Y2E2NzUzYmU5NTg1ZTkzOWU5MWVkYmRjZDBhZWQ2ZDU5IiwidGFnIjoiIn0%3D'}, {'domain': '.pimeyes.com', 'expiry': 1766137046, 'httpOnly': False, 'name': '_hjSessionUser_5103776', 'path': '/', 'sameSite': 'None', 'secure': True, 'value': 'eyJpZCI6ImUxOTBmNmY0LTRlMmEtNTkzYy1hODQwLWMzNmI2YzdjNjNjZSIsImNyZWF0ZWQiOjE3MzQ2MDA5NDUxNTQsImV4aXN0aW5nIjp0cnVlfQ=='}, {'domain': '.pimeyes.com', 'expiry': 1769161046, 'httpOnly': False, 'name': '_ga_Y9K5B6RTZQ', 'path': '/', 'sameSite': 'Lax', 'secure': False, 'value': 'GS1.1.1734600945.1.1.1734601046.59.0.1853578689'}, {'domain': '.pimeyes.com', 'expiry': 1768318543, 'httpOnly': False, 'name': 'cto_bidid', 'path': '/', 'sameSite': 'Lax', 'secure': False, 'value': 'h5iEnF9yRTY3M2NPNHZETXRUQkhaTG5WVTN3NUl0MlZCTUlOVWRKQWw0bHRkM3BsY2RKTGhnTllhdGxxcWNibGlSTUN6Wk8wJTJCQWdCeGFQZ09uWGJnd2FoM3ZjRjRkOTBJNVI2ZmMyeDclMkJMeEt5TTAlM0Q'}, {'domain': '.pimeyes.com', 'expiry': 1737192953, 'httpOnly': False, 'name': '_sharedID', 'path': '/', 'sameSite': 'Lax', 'secure': False, 'value': '3036e4d7-25c7-4175-8bda-099fc739c276'}, {'domain': '.pimeyes.com', 'expiry': 1769161046, 'httpOnly': False, 'name': '_ga', 'path': '/', 'sameSite': 'Lax', 'secure': False, 'value': 'GA1.1.324317325.1734600945'}, {'domain': '.pimeyes.com', 'expiry': 1737192953, 'httpOnly': False, 'name': '_sharedID_cst', 'path': '/', 'sameSite': 'Lax', 'secure': False, 'value': 'zix7LPQsHA%3D%3D'}, {'domain': '.pimeyes.com', 'expiry': 1734602777, 'httpOnly': False, 'name': '_hjSession_5103776', 'path': '/', 'sameSite': 'None', 'secure': True, 'value': 'eyJpZCI6IjMwZjZlOGUyLTY1NmQtNDQ2Ny1hNGQwLWU1NDFjMzEyOTEwYiIsImMiOjE3MzQ2MDA5NDUxNTUsInMiOjAsInIiOjAsInNiIjowLCJzciI6MCwic2UiOjAsImZzIjoxLCJzcCI6MH0='}, {'domain': 'pimeyes.com', 'expiry': 1737279351, 'httpOnly': False, 'name': 'CookieConsent', 'path': '/', 'sameSite': 'Lax', 'secure': True, 'value': '{stamp:%27wdzs05U5PbRy+PS1Q0koFiSCj8BtpneVk3K+koMez4dzN86bwpMyBg==%27%2Cnecessary:true%2Cpreferences:true%2Cstatistics:true%2Cmarketing:true%2Cmethod:%27explicit%27%2Cver:1%2Cutc:1734600951941%2Cregion:%27bd%27}'}, {'domain': '.pimeyes.com', 'expiry': 1768296950, 'httpOnly': False, 'name': '__gpi', 'path': '/', 'sameSite': 'None', 'secure': True, 'value': 'UID=00000db44a50802e:T=1734600950:RT=1734600950:S=ALNI_MbPkyA2sIqh-A_qMzQf58g--sWh3Q'}, {'domain': '.pimeyes.com', 'expiry': 1742376952, 'httpOnly': False, 'name': '_gcl_au', 'path': '/', 'sameSite': 'Lax', 'secure': False, 'value': '1.1.594294731.1734600952'}, {'domain': '.pimeyes.com', 'expiry': 1768296950, 'httpOnly': False, 'name': '__gads', 'path': '/', 'sameSite': 'None', 'secure': True, 'value': 'ID=816dbc2087d21485:T=1734600950:RT=1734600950:S=ALNI_Mag-u3fAzfeRk1Pfxv1VlR63Ct43g'}, {'domain': 'pimeyes.com', 'expiry': 1734608248, 'httpOnly': True, 'name': 'QBzcdkwe9WYEaGn105v20ejhap2yv1Zl8KUW2oDj', 'path': '/', 'sameSite': 'None', 'secure': True, 'value': 'eyJpdiI6ImkrMEE4b0E1cXplMzNJZkM2Z0pBZEE9PSIsInZhbHVlIjoiM2pBWDhobERoMCt0cU1aaHRaZTBVNURCYXZOc0Z5Qy9pNU1sdmVmZ0dCRlA1NDVVYkdFeGhwYzFKeDJmYkJJVjlIcHVuMmlDaDVhNy95YUdaTEdzcFFDWS9oZU4vYUZCWE9FOFBhVUx1STJ1Tzl0UHd0bDlpbzFVakFyUXBEenhZcEtjOWtMdWpneVhTSnJTWk1IL1ptSWJjcWUrNDdJVmNEZzB6VVV1WlFQcTZpSDNaL2xVUUZNTEJiZkx3WmdCZDhZc3Z5Q2NWYUpMd1BkN0tEWm5adThKYTR4bmk0VXFUWGgvOW5aOFhzaEdibm9Gc2VXL29scVBoWmE5VWNnb1RZOVQvODFoVklnQ1lLT3ozNXMvSlNNSWx2dU1DVTdpSkRFayt1SVhpQ25SRTNMbnpoaGJJd0hRNVYyRHVOSjl0ZVJvdFg0TEd1emNCUERabU1iMytIUHZoTUw3N0R5ODJtRTlURTh3cU5XVWZEbmtYVFJmT0R6QjQ1UHlLdEtLei9BU3U1czNuZEo0bFloYjR0TjdJL3BxeU5yYmRZa3JRTjlKcVFscjhSMm5TMEF0VkcvU1NLQWxScDBCWjBIMGpHUm9Cc1c4Uk5Cc2h2TFBIV3ZsNFE0a3NWbDVwaE10TjNhZFdxNUxyZGpiYTVVZ2x1bmJGbDlYeklra0RnZVIiLCJtYWMiOiJhYjJlMzc2ODlhMzYzYmQyZjcxMjY5ZDIyNjU5NGE1MTdmZmU4YjMzOTYzYzVjODhkYTAxMTZkOWU4Y2M1ZjhmIiwidGFnIjoiIn0%3D'}, {'domain': '.pimeyes.com', 'expiry': 1734687350, 'httpOnly': False, 'name': 'panoramaId_expiry', 'path': '/', 'sameSite': 'Lax', 'secure': False, 'value': '1734687350215'}, {'domain': 'pimeyes.com', 'expiry': 1734611024, 'httpOnly': False, 'name': 'ab_test_cookie_new', 'path': '/', 'sameSite': 'Lax', 'secure': False, 'value': 'test_format_resize_quality_12_12_2024'}, {'domain': 'pimeyes.com', 'expiry': 1766136943, 'httpOnly': False, 'name': 'payment_gateway_v3', 'path': '/', 'sameSite': 'Lax', 'secure': True, 'value': 'fastspring'}, {'domain': '.pimeyes.com', 'expiry': 1757928950, 'httpOnly': False, 'name': '_cc_id', 'path': '/', 'sameSite': 'Lax', 'secure': False, 'value': 'd4a8c6d4f50bf144a18ca0cf4d758eda'}, {'domain': '.pimeyes.com', 'expiry': 1750152950, 'httpOnly': False, 'name': '__eoi', 'path': '/', 'sameSite': 'None', 'secure': True, 'value': 'ID=cd515f44dc4646d3:T=1734600950:RT=1734600950:S=AA-AfjZ2hDXkh53Y_o6BFKByhmya'}, {'domain': '.pimeyes.com', 'expiry': 1768318543, 'httpOnly': False, 'name': 'cto_bundle', 'path': '/', 'sameSite': 'Lax', 'secure': False, 'value': 'A_BMQF9KY1Vidm9FemhCZEV5Ymx0Nm5EQjNCQXJBVHZmbTBlS3A2bks2UDg0aHd6U1lneEVPN0FwOCUyQjJXTVFLeDU5Y0xFTDRFVTJpTWgwWDVXT3JmSHkxUHpyOE95UGprTXFuVVJCJTJGYVU4WHRIRWNCSHFIZ2JxSTZOR0RhTUkyY3lTMm9HMHVvRG1nT0t0Y2twN0hRSEp0d3JBJTNEJTNE'}, {'domain': '.pimeyes.com', 'expiry': 1742377046, 'httpOnly': False, 'name': '_fbp', 'path': '/', 'sameSite': 'Lax', 'secure': False, 'value': 'fb.1.1734600945032.232130489279905869'}], 'saved_at': '2024-12-19 09:37:28'}\n"
     ]
    }
   ],
   "source": [
    "import pickle\n",
    "\n",
    "# Define the path to the .pkl file\n",
    "file_path = 'cookies.pkl'\n",
    "\n",
    "# Open the file in read-binary mode and load the data\n",
    "with open(file_path, 'rb') as file:\n",
    "    data = pickle.load(file)\n",
    "\n",
    "# Print the data to check its contents\n",
    "print(data)\n"
   ]
  },
  {
   "cell_type": "code",
   "execution_count": null,
   "metadata": {},
   "outputs": [],
   "source": []
  }
 ],
 "metadata": {
  "kernelspec": {
   "display_name": "meta_glass",
   "language": "python",
   "name": "python3"
  },
  "language_info": {
   "codemirror_mode": {
    "name": "ipython",
    "version": 3
   },
   "file_extension": ".py",
   "mimetype": "text/x-python",
   "name": "python",
   "nbconvert_exporter": "python",
   "pygments_lexer": "ipython3",
   "version": "3.11.10"
  }
 },
 "nbformat": 4,
 "nbformat_minor": 2
}
