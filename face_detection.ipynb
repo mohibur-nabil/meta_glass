{
 "cells": [
  {
   "cell_type": "code",
   "execution_count": null,
   "metadata": {},
   "outputs": [
    {
     "name": "stdout",
     "output_type": "stream",
     "text": [
      "\n",
      "0: 640x640 3 FACEs, 11.9ms\n",
      "Speed: 2.0ms preprocess, 11.9ms inference, 1.5ms postprocess per image at shape (1, 3, 640, 640)\n"
     ]
    }
   ],
   "source": [
    "from huggingface_hub import hf_hub_download\n",
    "from ultralytics import YOLO\n",
    "from supervision import Detections\n",
    "from PIL import Image\n",
    "\n",
    "model_path = hf_hub_download(repo_id=\"arnabdhar/YOLOv8-Face-Detection\", filename=\"model.pt\")\n",
    "\n",
    "model = YOLO(model_path)\n",
    "\n",
    "image_path = \"images/sirs.jpg\"\n",
    "image = Image.open(image_path)\n",
    "output = model(image)\n",
    "\n",
    "results = Detections.from_ultralytics(output[0])\n",
    "\n",
    "padding = 80  \n",
    "\n",
    "face_count = 0\n",
    "for bbox in results.xyxy:\n",
    "    x_min, y_min, x_max, y_max = bbox\n",
    "    \n",
    "    x_min_padded = max(0, x_min - padding)\n",
    "    y_min_padded = max(0, y_min - padding+20)\n",
    "    x_max_padded = min(image.width, x_max + padding)\n",
    "    y_max_padded = min(image.height, y_max + padding+20)\n",
    "    \n",
    "    cropped_face = image.crop((x_min_padded, y_min_padded, x_max_padded, y_max_padded))\n",
    "    \n",
    "    face_path = f\"detected_face_{face_count}.jpg\"\n",
    "    cropped_face.save(face_path)\n",
    "    face_count += 1\n",
    "\n",
    "image.show()\n"
   ]
  }
 ],
 "metadata": {
  "kernelspec": {
   "display_name": "meta_glass",
   "language": "python",
   "name": "python3"
  },
  "language_info": {
   "codemirror_mode": {
    "name": "ipython",
    "version": 3
   },
   "file_extension": ".py",
   "mimetype": "text/x-python",
   "name": "python",
   "nbconvert_exporter": "python",
   "pygments_lexer": "ipython3",
   "version": "3.11.10"
  }
 },
 "nbformat": 4,
 "nbformat_minor": 2
}
