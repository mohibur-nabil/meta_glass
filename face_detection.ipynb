{
 "cells": [
  {
   "cell_type": "code",
   "execution_count": 1,
   "metadata": {},
   "outputs": [
    {
     "name": "stderr",
     "output_type": "stream",
     "text": [
      "/home/shahidul/anaconda3/envs/meta_glass/lib/python3.11/site-packages/tqdm/auto.py:21: TqdmWarning: IProgress not found. Please update jupyter and ipywidgets. See https://ipywidgets.readthedocs.io/en/stable/user_install.html\n",
      "  from .autonotebook import tqdm as notebook_tqdm\n"
     ]
    },
    {
     "name": "stdout",
     "output_type": "stream",
     "text": [
      "\n",
      "0: 640x640 3 FACEs, 11.7ms\n",
      "Speed: 5.9ms preprocess, 11.7ms inference, 9.9ms postprocess per image at shape (1, 3, 640, 640)\n"
     ]
    }
   ],
   "source": [
    "from huggingface_hub import hf_hub_download\n",
    "from ultralytics import YOLO\n",
    "from supervision import Detections\n",
    "from PIL import Image\n",
    "\n",
    "model_path = hf_hub_download(repo_id=\"arnabdhar/YOLOv8-Face-Detection\", filename=\"model.pt\")\n",
    "\n",
    "model = YOLO(model_path)\n",
    "\n",
    "image_path = \"images/sirs.jpg\"\n",
    "image = Image.open(image_path)\n",
    "output = model(image)\n",
    "\n",
    "results = Detections.from_ultralytics(output[0])\n",
    "\n",
    "padding = 80  \n",
    "\n",
    "face_count = 0\n",
    "for bbox in results.xyxy:\n",
    "    x_min, y_min, x_max, y_max = bbox\n",
    "    \n",
    "    x_min_padded = max(0, x_min - padding)\n",
    "    y_min_padded = max(0, y_min - padding+20)\n",
    "    x_max_padded = min(image.width, x_max + padding)\n",
    "    y_max_padded = min(image.height, y_max + padding+20)\n",
    "    \n",
    "    cropped_face = image.crop((x_min_padded, y_min_padded, x_max_padded, y_max_padded))\n",
    "    \n",
    "    face_path = f\"detected_face_{face_count}.jpg\"\n",
    "    cropped_face.save(face_path)\n",
    "    face_count += 1\n",
    "\n",
    "image.show()\n"
   ]
  },
  {
   "cell_type": "code",
   "execution_count": 2,
   "metadata": {},
   "outputs": [
    {
     "data": {
      "text/plain": [
       "Detections(xyxy=array([[     164.24,       61.74,      265.28,      177.17],\n",
       "       [      409.4,      135.79,      483.82,      239.23],\n",
       "       [     536.95,      218.31,      571.64,      259.46]], dtype=float32), mask=None, confidence=array([    0.92149,     0.85671,     0.77922], dtype=float32), class_id=array([0, 0, 0]), tracker_id=None, data={'class_name': array(['FACE', 'FACE', 'FACE'], dtype='<U4')}, metadata={})"
      ]
     },
     "execution_count": 2,
     "metadata": {},
     "output_type": "execute_result"
    }
   ],
   "source": [
    "results"
   ]
  },
  {
   "cell_type": "code",
   "execution_count": null,
   "metadata": {},
   "outputs": [
    {
     "name": "stdout",
     "output_type": "stream",
     "text": [
      "\n",
      "0: 544x640 1 FACE, 11.0ms\n",
      "Speed: 1.7ms preprocess, 11.0ms inference, 0.7ms postprocess per image at shape (1, 3, 544, 640)\n",
      "Processed images/time2/shafinsir.jpg and saved detected faces.\n",
      "\n",
      "0: 640x640 1 FACE, 12.6ms\n",
      "Speed: 1.4ms preprocess, 12.6ms inference, 0.6ms postprocess per image at shape (1, 3, 640, 640)\n",
      "Processed images/time2/nm.jpg and saved detected faces.\n",
      "\n",
      "0: 640x448 1 FACE, 12.5ms\n",
      "Speed: 0.9ms preprocess, 12.5ms inference, 0.7ms postprocess per image at shape (1, 3, 640, 448)\n",
      "Processed images/time1/nbmsir.jpg and saved detected faces.\n",
      "\n",
      "0: 640x480 1 FACE, 8.6ms\n",
      "Speed: 1.4ms preprocess, 8.6ms inference, 0.6ms postprocess per image at shape (1, 3, 640, 480)\n",
      "Processed images/time1/EM.jpg and saved detected faces.\n",
      "\n",
      "0: 640x448 1 FACE, 8.1ms\n",
      "Speed: 1.0ms preprocess, 8.1ms inference, 0.7ms postprocess per image at shape (1, 3, 640, 448)\n",
      "Processed images/time3/nbmsir.jpg and saved detected faces.\n",
      "\n",
      "0: 640x640 3 FACEs, 12.8ms\n",
      "Speed: 2.1ms preprocess, 12.8ms inference, 0.6ms postprocess per image at shape (1, 3, 640, 640)\n",
      "Processed images/time3/sirs.jpg and saved detected faces.\n"
     ]
    }
   ],
   "source": [
    "import os\n",
    "from huggingface_hub import hf_hub_download\n",
    "from ultralytics import YOLO\n",
    "from supervision import Detections\n",
    "from PIL import Image\n",
    "\n",
    "def face_detection(folder_path):\n",
    "\n",
    "    model_path = hf_hub_download(repo_id=\"arnabdhar/YOLOv8-Face-Detection\", filename=\"model.pt\")\n",
    "    model = YOLO(model_path)\n",
    "\n",
    "    \n",
    "    detected_faces_dir = 'detected_faces'\n",
    "    os.makedirs(detected_faces_dir, exist_ok=True)\n",
    "\n",
    "   \n",
    "    padding = 80\n",
    "    face_count = 0\n",
    "\n",
    "    \n",
    "    for subdir, _, files in os.walk(folder_path):\n",
    "        for file in files:\n",
    "            if file.endswith(('.jpg', '.jpeg', '.png')):\n",
    "                image_path = os.path.join(subdir, file)\n",
    "                try:\n",
    "                    image = Image.open(image_path)\n",
    "                    output = model(image)\n",
    "                    results = Detections.from_ultralytics(output[0])\n",
    "\n",
    "                    for bbox in results.xyxy:\n",
    "                        x_min, y_min, x_max, y_max = bbox\n",
    "                        \n",
    "                        x_min_padded = max(0, x_min - padding)\n",
    "                        y_min_padded = max(0, y_min - padding + 20)\n",
    "                        x_max_padded = min(image.width, x_max + padding)\n",
    "                        y_max_padded = min(image.height, y_max + padding + 20)\n",
    "\n",
    "                        cropped_face = image.crop((x_min_padded, y_min_padded, x_max_padded, y_max_padded))\n",
    "                        \n",
    "                        face_path = os.path.join(detected_faces_dir, f\"detected_face_{face_count}.jpg\")\n",
    "                        cropped_face.save(face_path)\n",
    "                        face_count += 1\n",
    "\n",
    "                    print(f\"Processed {image_path} and saved detected faces.\")\n",
    "                except Exception as e:\n",
    "                    print(f\"Error processing {image_path}: {e}\")\n",
    "\n"
   ]
  },
  {
   "cell_type": "code",
   "execution_count": null,
   "metadata": {},
   "outputs": [],
   "source": []
  }
 ],
 "metadata": {
  "kernelspec": {
   "display_name": "meta_glass",
   "language": "python",
   "name": "python3"
  },
  "language_info": {
   "codemirror_mode": {
    "name": "ipython",
    "version": 3
   },
   "file_extension": ".py",
   "mimetype": "text/x-python",
   "name": "python",
   "nbconvert_exporter": "python",
   "pygments_lexer": "ipython3",
   "version": "3.11.10"
  }
 },
 "nbformat": 4,
 "nbformat_minor": 2
}
